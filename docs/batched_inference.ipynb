{
 "cells": [
  {
   "cell_type": "code",
   "execution_count": 11,
   "metadata": {},
   "outputs": [],
   "source": [
    "import time\n",
    "\n",
    "import numpy as np\n",
    "import tensorflow as tf\n",
    "tf.logging.set_verbosity(tf.logging.WARN)\n",
    "\n",
    "import sys\n",
    "sys.path.append(\"../tfti\")\n",
    "from tfti_batched_inference import *"
   ]
  },
  {
   "cell_type": "code",
   "execution_count": 2,
   "metadata": {},
   "outputs": [
    {
     "name": "stdout",
     "output_type": "stream",
     "text": [
      "WARNING:tensorflow:From /Users/alexyku/anaconda3/envs/tensorflow/lib/python3.6/site-packages/tensor2tensor/layers/common_layers.py:553: calling reduce_mean (from tensorflow.python.ops.math_ops) with keep_dims is deprecated and will be removed in a future version.\n",
      "Instructions for updating:\n",
      "keep_dims is deprecated, use keepdims instead\n"
     ]
    },
    {
     "name": "stderr",
     "output_type": "stream",
     "text": [
      "[2018-05-02 15:41:54,709] From /Users/alexyku/anaconda3/envs/tensorflow/lib/python3.6/site-packages/tensor2tensor/layers/common_layers.py:553: calling reduce_mean (from tensorflow.python.ops.math_ops) with keep_dims is deprecated and will be removed in a future version.\n",
      "Instructions for updating:\n",
      "keep_dims is deprecated, use keepdims instead\n"
     ]
    }
   ],
   "source": [
    "config = get_config(\n",
    "    problem=\"genomics_binding_deepsea_gm12878\",\n",
    "    model=\"tfti_transformer\",\n",
    "    hparams_set=\"tfti_transformer_base\",\n",
    "    hparams=\"\",\n",
    "    checkpoint_path=\"~/Downloads/6-64-25/model.ckpt-210001\",\n",
    ")\n",
    "\n",
    "preprocess_batch_fn = get_preprocess_batch_fn(config)\n",
    "inference_fn = get_inference_fn(config)"
   ]
  },
  {
   "cell_type": "code",
   "execution_count": 10,
   "metadata": {
    "collapsed": true
   },
   "outputs": [],
   "source": [
    "line = \"\"\"NNNNNNNNNNNNNNNNNNNNNNNNNNNNNNNNNNNNNNNNNNNNNNNNNNNNNNNNNNNNNNNNNNNNNNNNNNNNNNNNNNNNNNNNNNNNNNNNNNNNNNNNNNNNNNNNNNNNNNNNNNNNNNNNNNNNNNNNNNNNNNNNNNNNNNNNNNNNNNNNNNNNNNNNNNNNNNNNNNNNNNNNNNNNNNNNNNNNNNNNNNNNNNNNNNNNNNNNNNNNNNNNNNNNNNNNNNNNNNNNNNNNNNNNNNNNNNNNNNNNNNNNNNNNNNNNNNNNNNNNNNNNNNNNNNNNNNNNNNNNNNNNNNNNNNNNNNNNNNNNNNNNNNNNNNNNNNNNNNNNNNNNNNNNNNNNNNNNNNNNNNNNNNNNNNNNNNNNNNNNNNNNNNNNNNNNNNNNNNNNGAATTTGAATTTGAATTTGAATTTGAATTTGAATTTGAATTTGAATTTGAATTTGAATTTGAATTTGAATTTGAATTTGAATTTGAATTTGAATTTGAATTTGAATTTAATTTGAATTTGAATTTGAATTTGAATTTGAATTTGAATTTTGAATTTGAATTTGAATTTGAATTTGAATTGAATTTGAATTTGAATTTGAATTTGAATTTGAATTTGAATTTGAATTTGAATTTTGAATTTGAATTTGAAATTTGAAATTTGAATTTGAATTTGAATTTGAATTTGAATTTTAATTTTAATTTTAATTTTAATTTTAATTTTAATTTGAATTTTGAATTTGAATTTGAATTTGATTTGAATTTGAATTTGAATTTGAATTTGAATTTGAATTTTGAATTTTGAATTTGAATTTGAATTTGAATTTGAATTTGAATTTGAATTTTGAATTTGAATTTGAATTTGAATTTGTCTCCGATTTGTACTTCCTTTCTTTCTTTCCCGTGCATTGCACCACAATGCGCTGTTCTTGGTACACGATTATTCAAAGTGCGCTACACCATAATCTACTGTTCTTTGTCTCCGCTGTGTTCCCGTGCGCTG\t0000000000000000000000000000000000000000000000000000000000001000000100000000100000000000000000000000000000000000000000000000000000000000000000000000000000000000000000000000000000000000000000000000000000000000000000000000000000000000000000000000000000000000000000000000000000000000000000000000000000000000000000000000000000000000000000000000000000000000000000000000000000010000000000000000000000000000000000000000000000000000000000000000000000000000000000000000000000000000000000000000000000000000000000000000000000000000000000000000000000000000000000000000000000000000000000000000000000000000000000000000000000000000000000000000000000000000000000000000000000000000000000000000000000000000000000000000000000000000000000000000000000000000000000000000000000000000000000000000000000000000000000000000000000000000000000000000000001000000010001101000000000000000000000010000000000000000000000000000000000000000000000000000000\"\"\"\n",
    "tab_split = line.split(\"\\t\")\n",
    "\n",
    "# string inputs\n",
    "inputs_str = tab_split[0].strip()\n",
    "targets_str = tab_split[1].strip()\n",
    "keep_mask_str = \"0\" * len(targets_str)\n",
    "\n",
    "# numpy array inputs\n",
    "inputs_np = np.array(list(map(ord, inputs_str)))\n",
    "targets_np = np.array(list(map(int, targets_str)))\n",
    "keep_mask_np = np.array(list(map(int, keep_mask_str))).astype(bool)\n",
    "\n",
    "def pseudo_batch(x, n):\n",
    "    \"\"\"Yields the value x n-times.\"\"\"\n",
    "    for _ in range(n):\n",
    "        yield x"
   ]
  },
  {
   "cell_type": "code",
   "execution_count": 7,
   "metadata": {},
   "outputs": [
    {
     "name": "stdout",
     "output_type": "stream",
     "text": [
      "inputs:              dtype=int64      shape=(16, 250, 1, 1)\n",
      "targets:             dtype=int32      shape=(16, 35, 1, 1)\n",
      "latents:             dtype=int32      shape=(16, 35, 1, 1)\n",
      "metrics_weights:     dtype=float32    shape=(16, 35, 1, 1)\n",
      "labels:              dtype=int32      shape=(16, 35, 1, 1)\n",
      "logits:              dtype=float32    shape=(16, 35, 1, 1)\n",
      "predictions:         dtype=float32    shape=(16, 35, 1, 1)\n"
     ]
    }
   ],
   "source": [
    "# string inputs\n",
    "example_batch = preprocess_batch_fn(\n",
    "    pseudo_batch(inputs_str, 16),\n",
    "    pseudo_batch(targets_str, 16),\n",
    "    pseudo_batch(keep_mask_str, 16)\n",
    ")\n",
    "fetch_batch = inference_fn(example_batch)\n",
    "\n",
    "for k, v in example_batch.items():\n",
    "    print(f\"{(k+':').ljust(20)} dtype={str(v.dtype).ljust(10)} shape={v.shape}\")\n",
    "for k, v in fetch_batch.items():\n",
    "    print(f\"{(k+':').ljust(20)} dtype={str(v.dtype).ljust(10)} shape={v.shape}\")"
   ]
  },
  {
   "cell_type": "code",
   "execution_count": 8,
   "metadata": {},
   "outputs": [
    {
     "name": "stdout",
     "output_type": "stream",
     "text": [
      "inputs:              dtype=int64      shape=(16, 250, 1, 1)\n",
      "targets:             dtype=int32      shape=(16, 35, 1, 1)\n",
      "latents:             dtype=int32      shape=(16, 35, 1, 1)\n",
      "metrics_weights:     dtype=float32    shape=(16, 35, 1, 1)\n",
      "labels:              dtype=int32      shape=(16, 35, 1, 1)\n",
      "logits:              dtype=float32    shape=(16, 35, 1, 1)\n",
      "predictions:         dtype=float32    shape=(16, 35, 1, 1)\n"
     ]
    }
   ],
   "source": [
    "# numpy array inputs\n",
    "example_batch = preprocess_batch_fn(\n",
    "    pseudo_batch(inputs_np, 16),\n",
    "    pseudo_batch(targets_np, 16),\n",
    "    pseudo_batch(keep_mask_np, 16)\n",
    ")\n",
    "fetch_batch = inference_fn(example_batch)\n",
    "\n",
    "for k, v in example_batch.items():\n",
    "    print(f\"{(k+':').ljust(20)} dtype={str(v.dtype).ljust(10)} shape={v.shape}\")\n",
    "for k, v in fetch_batch.items():\n",
    "    print(f\"{(k+':').ljust(20)} dtype={str(v.dtype).ljust(10)} shape={v.shape}\")"
   ]
  },
  {
   "cell_type": "code",
   "execution_count": null,
   "metadata": {
    "collapsed": true
   },
   "outputs": [],
   "source": []
  }
 ],
 "metadata": {
  "kernelspec": {
   "display_name": "tensorflow",
   "language": "python",
   "name": "tensorflow"
  },
  "language_info": {
   "codemirror_mode": {
    "name": "ipython",
    "version": 3
   },
   "file_extension": ".py",
   "mimetype": "text/x-python",
   "name": "python",
   "nbconvert_exporter": "python",
   "pygments_lexer": "ipython3",
   "version": "3.6.2"
  }
 },
 "nbformat": 4,
 "nbformat_minor": 2
}
