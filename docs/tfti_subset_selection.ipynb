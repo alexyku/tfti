{
 "cells": [
  {
   "cell_type": "code",
   "execution_count": 2,
   "metadata": {},
   "outputs": [
    {
     "name": "stdout",
     "output_type": "stream",
     "text": [
      "Populating the interactive namespace from numpy and matplotlib\n"
     ]
    }
   ],
   "source": [
    "import tensorflow as tf\n",
    "%pylab inline\n",
    "plt.style.use('ggplot')"
   ]
  },
  {
   "cell_type": "markdown",
   "metadata": {},
   "source": [
    "# Beam-search forward subset selection"
   ]
  },
  {
   "cell_type": "code",
   "execution_count": null,
   "metadata": {
    "collapsed": true
   },
   "outputs": [],
   "source": [
    "def evaluate(feature_subset):\n",
    "    # TODO: write this function\n",
    "    return np.random.random()"
   ]
  },
  {
   "cell_type": "code",
   "execution_count": 40,
   "metadata": {
    "collapsed": true
   },
   "outputs": [],
   "source": [
    "num_features = 100\n",
    "all_features = frozenset(range(num_features))\n",
    "\n",
    "max_subset_size = 10\n",
    "\n",
    "num_beams = 4\n",
    "beams = []  # List of tuples containing: (score, subset) of type (float, frozenset)\n",
    "beams.append((-1, frozenset()))\n",
    "\n",
    "cache = dict()\n",
    "\n",
    "for _ in range(max_subset_size):\n",
    "    new_beams = []  # Next generation of beams\n",
    "    for score, beam in beams:\n",
    "        # Iterate through features that can be added\n",
    "        for feature in (all_features - beam):\n",
    "            # A hypothesis extends an existing beam\n",
    "            # with a single feature\n",
    "            hypothesis = beam.union({feature})\n",
    "            # Prevent evaluating the same beam twice\n",
    "            if hypothesis in cache:\n",
    "                score = cache[hypothesis]\n",
    "            else:\n",
    "                score = evaluate(hypothesis)\n",
    "                cache[hypothesis] = score\n",
    "            # Extend the generation of beams\n",
    "            new_beams.append((score, hypothesis))\n",
    "    # Keep the best beams from this generation and the next\n",
    "    # Note: beams can be different lengths though we hope\n",
    "    # to see a monotonic improvement with more features\n",
    "    beams = sorted(new_beams + beams, reverse=True)[:num_beams]"
   ]
  },
  {
   "cell_type": "code",
   "execution_count": 41,
   "metadata": {},
   "outputs": [
    {
     "data": {
      "text/plain": [
       "[(0.9972141761586498, frozenset({11, 37})),\n",
       " (0.9972141761586498, frozenset({11, 37})),\n",
       " (0.9963063151410947, frozenset({23})),\n",
       " (0.9957659312504197, frozenset({1, 84}))]"
      ]
     },
     "execution_count": 41,
     "metadata": {},
     "output_type": "execute_result"
    }
   ],
   "source": [
    "beams"
   ]
  },
  {
   "cell_type": "code",
   "execution_count": null,
   "metadata": {
    "collapsed": true
   },
   "outputs": [],
   "source": []
  }
 ],
 "metadata": {
  "kernelspec": {
   "display_name": "tensorflow",
   "language": "python",
   "name": "tensorflow"
  },
  "language_info": {
   "codemirror_mode": {
    "name": "ipython",
    "version": 3
   },
   "file_extension": ".py",
   "mimetype": "text/x-python",
   "name": "python",
   "nbconvert_exporter": "python",
   "pygments_lexer": "ipython3",
   "version": "3.6.2"
  }
 },
 "nbformat": 4,
 "nbformat_minor": 2
}
