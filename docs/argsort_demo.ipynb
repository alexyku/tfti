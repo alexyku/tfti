{
 "cells": [
  {
   "cell_type": "code",
   "execution_count": 3,
   "metadata": {
    "collapsed": false
   },
   "outputs": [
    {
     "name": "stderr",
     "output_type": "stream",
     "text": [
      "<ipython-input-3-96330ca81c95>:31: SyntaxWarning: assertion is always true, perhaps remove parentheses?\n",
      "  assert(cell_type_1 in valid_cell_types, \"{} not in list of valid cell types\".format(cell_type_1))\n",
      "<ipython-input-3-96330ca81c95>:32: SyntaxWarning: assertion is always true, perhaps remove parentheses?\n",
      "  assert(cell_type_2 in valid_cell_types, \"{} not in list of valid cell types\".format(cell_type_2))\n"
     ]
    }
   ],
   "source": [
    "import os\n",
    "import numpy as np\n",
    "import tensorflow as tf\n",
    "\n",
    "def load_names(namefile):\n",
    "    \"\"\"Loads DeepSEA label names from namefile.\n",
    "    \"\"\"\n",
    "    return np.array(open(namefile).read().split(\",\"))\n",
    "\n",
    "\n",
    "def get_overlapping_indices_for_cell_type(cell_type_1, cell_type_2):\n",
    "    \"\"\"Gets target indices for transcription factors for the intersection \n",
    "    of cell_type_1 and cell_type_2.\n",
    "\n",
    "    Args:\n",
    "      cell_type_1: Name of cell type 1 as a string.\n",
    "      cell_type_2: Name of cell type 2 as a string.\n",
    "\n",
    "    Returns:\n",
    "      List of indices ~ FOR CELL 1 ~ that overlap with cell 2.\n",
    "      These indices are listed in alphabetical order for consistency.\n",
    "    \"\"\"\n",
    "    \n",
    "#     dir_path = os.path.dirname(os.path.realpath(__file__))\n",
    "    namefile = \"../tfti/deepsea_label_names.txt\"\n",
    "    names = load_names(namefile)\n",
    "    \n",
    "    valid_cell_types = list(map(lambda x: x.split(\"|\")[1], names))\n",
    "    \n",
    "    # Make sure cell type parameters can be found in our data. \n",
    "    assert(cell_type_1 in valid_cell_types, \"{} not in list of valid cell types\".format(cell_type_1))\n",
    "    assert(cell_type_2 in valid_cell_types, \"{} not in list of valid cell types\".format(cell_type_2))\n",
    "        \n",
    "    # Get positions for both cell lines.\n",
    "    cell_type_1_pos = [(i, j) for i, j in enumerate(names) \\\n",
    "                        if cell_type_1 in j]\n",
    "    cell_type_2_pos = [(i, j) for i, j in enumerate(names) \\\n",
    "                        if cell_type_2 in j]\n",
    "\n",
    "    # Get marks for each cell type\n",
    "    cell_type_1_marks =  [i[1].split(\"|\")[1] for i in cell_type_1_pos]\n",
    "    cell_type_2_marks =  [i[1].split(\"|\")[1] for i in cell_type_2_pos]\n",
    "    \n",
    "    # Get overlapping marks between both cell types.\n",
    "    overlapping_marks = list(set(cell_type_1_marks) & set(cell_type_2_marks))\n",
    "\n",
    "    cell_type_1_final_pos = [(i,j) for i, j in cell_type_1_pos if \\\n",
    "                                    j.split(\"|\")[1] in overlapping_marks]\n",
    "    cell_type_2_final_pos = [(i,j) for i, j in  cell_type_2_pos if \\\n",
    "                                    j.split(\"|\")[1] in overlapping_marks]\n",
    "\n",
    "    # Filter out duplicates for both cell types.\n",
    "    cell_type_1_items = []\n",
    "    seen = set()\n",
    "    for item in cell_type_1_final_pos:\n",
    "      if item[1] not in seen:\n",
    "        seen.add(item[1])\n",
    "        cell_type_1_items.append(item)\n",
    "\n",
    "    cell_type_1_items = sorted(cell_type_1_items, key=lambda i: i[1]) \n",
    "    \n",
    "    # Print out sorted marks.\n",
    "    tf.logging.info(\"Marks for CellType %s: %s\" \n",
    "                    % (cell_type_1, \n",
    "                    cell_type_1_items))\n",
    "\n",
    "    cell_type_2_items = []\n",
    "    seen = set()\n",
    "    for item in cell_type_2_final_pos:\n",
    "      if not item[1] in seen:\n",
    "        seen.add(item[1])\n",
    "        cell_type_2_items.append(item)\n",
    "\n",
    "    cell_type_2_items = sorted(cell_type_2_items, key=lambda i: i[1])\n",
    "\n",
    "    # Verify that TFs match between cell types.\n",
    "    for i, item in enumerate(cell_type_2_items):\n",
    "      assert(cell_type_2_items[i][1].split(\"|\")[1] ==\n",
    "             cell_type_1_items[i][1].split(\"|\")[1])\n",
    "\n",
    "    # These are the indices we are using for the cell type 1 model.\n",
    "    cell_type_1_indices = list(map(lambda x: x[0], cell_type_1_items))\n",
    "    return cell_type_1_indices"
   ]
  },
  {
   "cell_type": "code",
   "execution_count": 5,
   "metadata": {
    "collapsed": false
   },
   "outputs": [
    {
     "data": {
      "text/plain": [
       "array(['GM12878|ATF2|None', 'GM12878|ATF3|None', 'GM12878|BCL11A|None',\n",
       "       'GM12878|BRCA1|None', 'GM12878|CEBPB|None', 'GM12878|CHD1|None',\n",
       "       'GM12878|CHD2|None', 'GM12878|CTCF|None', 'GM12878|DNase|None',\n",
       "       'GM12878|EZH2|None', 'GM12878|Egr-1|None', 'GM12878|GABP|None',\n",
       "       'GM12878|JunD|None', 'GM12878|Max|None', 'GM12878|Mxi1|None',\n",
       "       'GM12878|NRSF|None', 'GM12878|Nrf1|None', 'GM12878|Pol2-4H8|None',\n",
       "       'GM12878|Pol2|None', 'GM12878|RFX5|None', 'GM12878|RXRA|None',\n",
       "       'GM12878|Rad21|None', 'GM12878|SIN3A|None', 'GM12878|SIX5|None',\n",
       "       'GM12878|SP1|None', 'GM12878|SRF|None', 'GM12878|TAF1|None',\n",
       "       'GM12878|TBP|None', 'GM12878|TCF12|None', 'GM12878|USF-1|None',\n",
       "       'GM12878|USF2|None', 'GM12878|YY1|None', 'GM12878|Znf143|None',\n",
       "       'GM12878|c-Myc|None', 'GM12878|p300|None'], dtype='<U37')"
      ]
     },
     "execution_count": 5,
     "metadata": {},
     "output_type": "execute_result"
    }
   ],
   "source": [
    "namefile = \"../tfti/deepsea_label_names.txt\"\n",
    "example = load_names(namefile)\n",
    "\n",
    "gather_indices = get_overlapping_indices_for_cell_type(\"GM12878\", \"H1-hESC\")\n",
    "example[gather_indices]"
   ]
  },
  {
   "cell_type": "code",
   "execution_count": 6,
   "metadata": {
    "collapsed": false
   },
   "outputs": [
    {
     "data": {
      "text/plain": [
       "array(['GM12878|DNase|None', 'GM12878|CTCF|None', 'GM12878|EZH2|None',\n",
       "       'GM12878|ATF2|None', 'GM12878|ATF3|None', 'GM12878|BCL11A|None',\n",
       "       'GM12878|CEBPB|None', 'GM12878|Egr-1|None', 'GM12878|GABP|None',\n",
       "       'GM12878|NRSF|None', 'GM12878|p300|None', 'GM12878|Pol2-4H8|None',\n",
       "       'GM12878|Pol2|None', 'GM12878|Rad21|None', 'GM12878|RXRA|None',\n",
       "       'GM12878|SIX5|None', 'GM12878|SP1|None', 'GM12878|SRF|None',\n",
       "       'GM12878|TAF1|None', 'GM12878|TCF12|None', 'GM12878|USF-1|None',\n",
       "       'GM12878|YY1|None', 'GM12878|BRCA1|None', 'GM12878|CHD1|None',\n",
       "       'GM12878|CHD2|None', 'GM12878|JunD|None', 'GM12878|Max|None',\n",
       "       'GM12878|Mxi1|None', 'GM12878|Nrf1|None', 'GM12878|RFX5|None',\n",
       "       'GM12878|SIN3A|None', 'GM12878|TBP|None', 'GM12878|USF2|None',\n",
       "       'GM12878|Znf143|None', 'GM12878|c-Myc|None'], dtype='<U37')"
      ]
     },
     "execution_count": 6,
     "metadata": {},
     "output_type": "execute_result"
    }
   ],
   "source": [
    "argsort_indices = np.argsort(gather_indices)\n",
    "gather_indices_sorted = np.sort(gather_indices)\n",
    "\n",
    "# Keep targets and latents corresponding to GM12878 (LCL cell line).\n",
    "targets = example[gather_indices_sorted]\n",
    "latents = example[gather_indices_sorted]\n",
    "targets_copy = np.array(list(targets))\n",
    "\n",
    "targets"
   ]
  },
  {
   "cell_type": "code",
   "execution_count": 7,
   "metadata": {
    "collapsed": false
   },
   "outputs": [
    {
     "data": {
      "text/plain": [
       "array(['GM12878|GABP|None', 'GM12878|Egr-1|None', 'GM12878|NRSF|None',\n",
       "       'GM12878|DNase|None', 'GM12878|CTCF|None', 'GM12878|EZH2|None',\n",
       "       'GM12878|ATF3|None', 'GM12878|p300|None', 'GM12878|Pol2-4H8|None',\n",
       "       'GM12878|SIX5|None', 'GM12878|c-Myc|None', 'GM12878|SRF|None',\n",
       "       'GM12878|TAF1|None', 'GM12878|YY1|None', 'GM12878|USF-1|None',\n",
       "       'GM12878|CHD1|None', 'GM12878|CHD2|None', 'GM12878|JunD|None',\n",
       "       'GM12878|Max|None', 'GM12878|Nrf1|None', 'GM12878|RFX5|None',\n",
       "       'GM12878|TBP|None', 'GM12878|ATF2|None', 'GM12878|BCL11A|None',\n",
       "       'GM12878|CEBPB|None', 'GM12878|Pol2|None', 'GM12878|Rad21|None',\n",
       "       'GM12878|RXRA|None', 'GM12878|SP1|None', 'GM12878|TCF12|None',\n",
       "       'GM12878|BRCA1|None', 'GM12878|Mxi1|None', 'GM12878|SIN3A|None',\n",
       "       'GM12878|USF2|None', 'GM12878|Znf143|None'], dtype='<U37')"
      ]
     },
     "execution_count": 7,
     "metadata": {},
     "output_type": "execute_result"
    }
   ],
   "source": [
    "# This is how we are currently realphabetizing. \n",
    "\n",
    "# Ensure sure tensors are sorted by alphabetical TFs.\n",
    "targets[argsort_indices]\n"
   ]
  },
  {
   "cell_type": "code",
   "execution_count": 10,
   "metadata": {
    "collapsed": false
   },
   "outputs": [
    {
     "data": {
      "text/plain": [
       "array(['GM12878|ATF2|None', 'GM12878|ATF3|None', 'GM12878|BCL11A|None',\n",
       "       'GM12878|BRCA1|None', 'GM12878|CEBPB|None', 'GM12878|CHD1|None',\n",
       "       'GM12878|CHD2|None', 'GM12878|CTCF|None', 'GM12878|DNase|None',\n",
       "       'GM12878|EZH2|None', 'GM12878|Egr-1|None', 'GM12878|GABP|None',\n",
       "       'GM12878|JunD|None', 'GM12878|Max|None', 'GM12878|Mxi1|None',\n",
       "       'GM12878|NRSF|None', 'GM12878|Nrf1|None', 'GM12878|Pol2-4H8|None',\n",
       "       'GM12878|Pol2|None', 'GM12878|RFX5|None', 'GM12878|RXRA|None',\n",
       "       'GM12878|Rad21|None', 'GM12878|SIN3A|None', 'GM12878|SIX5|None',\n",
       "       'GM12878|SP1|None', 'GM12878|SRF|None', 'GM12878|TAF1|None',\n",
       "       'GM12878|TBP|None', 'GM12878|TCF12|None', 'GM12878|USF-1|None',\n",
       "       'GM12878|USF2|None', 'GM12878|YY1|None', 'GM12878|Znf143|None',\n",
       "       'GM12878|c-Myc|None', 'GM12878|p300|None'], dtype='<U21')"
      ]
     },
     "execution_count": 10,
     "metadata": {},
     "output_type": "execute_result"
    }
   ],
   "source": [
    "# This is how we should be doing it.\n",
    "\n",
    "inds = list(range(len(targets)))\n",
    "targets_copy[argsort_indices] = targets[inds]\n",
    "targets_copy\n"
   ]
  }
 ],
 "metadata": {
  "kernelspec": {
   "display_name": "Python 3",
   "language": "python",
   "name": "python3"
  },
  "language_info": {
   "codemirror_mode": {
    "name": "ipython",
    "version": 3
   },
   "file_extension": ".py",
   "mimetype": "text/x-python",
   "name": "python",
   "nbconvert_exporter": "python",
   "pygments_lexer": "ipython3",
   "version": "3.4.3"
  }
 },
 "nbformat": 4,
 "nbformat_minor": 0
}
