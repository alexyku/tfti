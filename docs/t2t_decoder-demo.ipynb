{
 "cells": [
  {
   "cell_type": "markdown",
   "metadata": {},
   "source": [
    "# decode from  a score file\n",
    "\n",
    "* https://github.com/tensorflow/tensor2tensor/blob/master/tensor2tensor/bin/t2t_decoder.py"
   ]
  },
  {
   "cell_type": "code",
   "execution_count": 6,
   "metadata": {},
   "outputs": [
    {
     "name": "stdout",
     "output_type": "stream",
     "text": [
      "Help on function infer_fn in module tfti_infer:\n",
      "\n",
      "infer_fn(inputs, targets, keep_mask)\n",
      "    Returns an inference function.\n",
      "    \n",
      "    Args:\n",
      "      inputs: An ACTGN string of length 1000 or an ascii-encoded integer list.\n",
      "        ex. \"...NNNNACTGACTGNNNN...\" or [..., 78, 65, 67, 84, 71, ...].\n",
      "      targets: A binary string of length 919 or an binary integer list.\n",
      "        ex. \"...0000100100001100...\" or [..., 0, 0, 1, 0, 0, 1, 1, ...].\n",
      "      keep_mask: A binary string of length 919 or an boolean list.\n",
      "        ex. \"...0000100100001100...\" or [..., True, False, True, ...].\n",
      "    \n",
      "    Returns:\n",
      "      Dictionary containing:\n",
      "        \"labels\": A binary integer array with shape [nlabels].\n",
      "        \"logits\": A float array with shape [nlabels], values in (-inf, inf).\n",
      "        \"predictions\": Sigmoid function applied to logits, values in [0, 1].\n",
      "        \"\"\n",
      "\n"
     ]
    }
   ],
   "source": [
    "import numpy as np\n",
    "import tensorflow as tf\n",
    "tf.logging.set_verbosity(tf.logging.WARN)\n",
    "\n",
    "import sys\n",
    "sys.path.append(\"../tfti\")\n",
    "import tfti_infer\n",
    "\n",
    "infer_fn = tfti_infer.get_infer_fn(\n",
    "    problem=\"genomics_binding_deepsea_gm12878\",\n",
    "    model=\"tfti_transformer\",\n",
    "    hparams_set=\"tfti_transformer_base\",\n",
    "    hparams=\"\",\n",
    "    checkpoint_path=\"~/Downloads/6-64-25/model.ckpt-210001\",\n",
    ")\n",
    "\n",
    "help(infer_fn)"
   ]
  },
  {
   "cell_type": "code",
   "execution_count": 43,
   "metadata": {},
   "outputs": [
    {
     "data": {
      "text/plain": [
       "{'labels': array([0, 0, 0, 0, 0, 0, 0, 0, 0, 0, 0, 0, 0, 0, 0, 0, 0, 0, 0, 0, 0, 0,\n",
       "        0, 0, 0, 0, 0, 0, 0, 0, 0, 0, 0, 0, 0], dtype=int32),\n",
       " 'logits': array([-1.2360468, -1.2360468, -1.2360468, -1.2360468, -1.2360468,\n",
       "        -1.2360468, -1.2360468, -1.2360468, -1.2360468, -1.2360468,\n",
       "        -1.2360468, -1.2360468, -1.2360468, -1.2360468, -1.2360468,\n",
       "        -1.2360468, -1.2360468, -1.2360468, -1.2360468, -1.2360468,\n",
       "        -1.2360468, -1.2360468, -1.2360468, -1.2360468, -1.2360468,\n",
       "        -1.2360468, -1.2360468, -1.2360468, -1.2360468, -1.2360468,\n",
       "        -1.2360468, -1.2360468, -1.2360466, -1.2360466, -1.2360466],\n",
       "       dtype=float32),\n",
       " 'predictions': array([0.22512487, 0.22512487, 0.22512487, 0.22512487, 0.22512487,\n",
       "        0.22512487, 0.22512487, 0.22512487, 0.22512487, 0.22512487,\n",
       "        0.22512487, 0.22512487, 0.22512487, 0.22512487, 0.22512487,\n",
       "        0.22512487, 0.22512487, 0.22512487, 0.22512487, 0.22512487,\n",
       "        0.22512487, 0.22512487, 0.22512487, 0.22512487, 0.22512487,\n",
       "        0.22512487, 0.22512487, 0.22512487, 0.22512487, 0.22512487,\n",
       "        0.22512487, 0.22512487, 0.22512488, 0.22512488, 0.22512488],\n",
       "       dtype=float32)}"
      ]
     },
     "execution_count": 43,
     "metadata": {},
     "output_type": "execute_result"
    }
   ],
   "source": [
    "line = \"\"\"NNNNNNNNNNNNNNNNNNNNNNNNNNNNNNNNNNNNNNNNNNNNNNNNNNNNNNNNNNNNNNNNNNNNNNNNNNNNNNNNNNNNNNNNNNNNNNNNNNNNNNNNNNNNNNNNNNNNNNNNNNNNNNNNNNNNNNNNNNNNNNNNNNNNNNNNNNNNNNNNNNNNNNNNNNNNNNNNNNNNNNNNNNNNNNNNNNNNNNNNNNNNNNNNNNNNNNNNNNNNNNNNNNNNNNNNNNNNNNNNNNNNNNNNNNNNNNNNNNNNNNNNNNNNNNNNNNNNNNNNNNNNNNNNNNNNNNNNNNNNNNNNNNNNNNNNNNNNNNNNNNNNNNNNNNNNNNNNNNNNNNNNNNNNNNNNNNNNNNNNNNNNNNNNNNNNNNNNNNNNNNNNNNNNNNNNNNNNNNNNGAATTTGAATTTGAATTTGAATTTGAATTTGAATTTGAATTTGAATTTGAATTTGAATTTGAATTTGAATTTGAATTTGAATTTGAATTTGAATTTGAATTTGAATTTAATTTGAATTTGAATTTGAATTTGAATTTGAATTTGAATTTTGAATTTGAATTTGAATTTGAATTTGAATTGAATTTGAATTTGAATTTGAATTTGAATTTGAATTTGAATTTGAATTTGAATTTTGAATTTGAATTTGAAATTTGAAATTTGAATTTGAATTTGAATTTGAATTTGAATTTTAATTTTAATTTTAATTTTAATTTTAATTTTAATTTGAATTTTGAATTTGAATTTGAATTTGATTTGAATTTGAATTTGAATTTGAATTTGAATTTGAATTTTGAATTTTGAATTTGAATTTGAATTTGAATTTGAATTTGAATTTGAATTTTGAATTTGAATTTGAATTTGAATTTGTCTCCGATTTGTACTTCCTTTCTTTCTTTCCCGTGCATTGCACCACAATGCGCTGTTCTTGGTACACGATTATTCAAAGTGCGCTACACCATAATCTACTGTTCTTTGTCTCCGCTGTGTTCCCGTGCGCTG\t0000000000000000000000000000000000000000000000000000000000001000000100000000100000000000000000000000000000000000000000000000000000000000000000000000000000000000000000000000000000000000000000000000000000000000000000000000000000000000000000000000000000000000000000000000000000000000000000000000000000000000000000000000000000000000000000000000000000000000000000000000000000010000000000000000000000000000000000000000000000000000000000000000000000000000000000000000000000000000000000000000000000000000000000000000000000000000000000000000000000000000000000000000000000000000000000000000000000000000000000000000000000000000000000000000000000000000000000000000000000000000000000000000000000000000000000000000000000000000000000000000000000000000000000000000000000000000000000000000000000000000000000000000000000000000000000000000000001000000010001101000000000000000000000010000000000000000000000000000000000000000000000000000000\"\"\"\n",
    "tab_split = line.split(\"\\t\")\n",
    "\n",
    "inputs_str = tab_split[0].strip()\n",
    "targets_str = tab_split[1].strip()\n",
    "keep_mask_str = \"0\" * len(targets_str)\n",
    "\n",
    "# print(\"\\ninput_str:\\n\")\n",
    "# print(repr(inputs_str))\n",
    "\n",
    "# print(\"\\ntargets_str:\\n\")\n",
    "# print(repr(targets_str))\n",
    "\n",
    "# print(\"\\nkeep_mask_str:\\n\")\n",
    "# print(repr(keep_mask_str))\n",
    "\n",
    "infer_fn(inputs_str, targets_str, keep_mask_str)"
   ]
  },
  {
   "cell_type": "code",
   "execution_count": 44,
   "metadata": {},
   "outputs": [
    {
     "data": {
      "text/plain": [
       "{'labels': array([0, 0, 0, 0, 0, 0, 0, 0, 0, 0, 0, 0, 0, 0, 0, 0, 0, 0, 0, 0, 0, 0,\n",
       "        0, 0, 0, 0, 0, 0, 0, 0, 0, 0, 0, 0, 0], dtype=int32),\n",
       " 'logits': array([-1.2360468, -1.2360468, -1.2360468, -1.2360468, -1.2360468,\n",
       "        -1.2360468, -1.2360468, -1.2360468, -1.2360468, -1.2360468,\n",
       "        -1.2360468, -1.2360468, -1.2360468, -1.2360468, -1.2360468,\n",
       "        -1.2360468, -1.2360468, -1.2360468, -1.2360468, -1.2360468,\n",
       "        -1.2360468, -1.2360468, -1.2360468, -1.2360468, -1.2360468,\n",
       "        -1.2360468, -1.2360468, -1.2360468, -1.2360468, -1.2360468,\n",
       "        -1.2360468, -1.2360468, -1.2360466, -1.2360466, -1.2360466],\n",
       "       dtype=float32),\n",
       " 'predictions': array([0.22512487, 0.22512487, 0.22512487, 0.22512487, 0.22512487,\n",
       "        0.22512487, 0.22512487, 0.22512487, 0.22512487, 0.22512487,\n",
       "        0.22512487, 0.22512487, 0.22512487, 0.22512487, 0.22512487,\n",
       "        0.22512487, 0.22512487, 0.22512487, 0.22512487, 0.22512487,\n",
       "        0.22512487, 0.22512487, 0.22512487, 0.22512487, 0.22512487,\n",
       "        0.22512487, 0.22512487, 0.22512487, 0.22512487, 0.22512487,\n",
       "        0.22512487, 0.22512487, 0.22512488, 0.22512488, 0.22512488],\n",
       "       dtype=float32)}"
      ]
     },
     "execution_count": 44,
     "metadata": {},
     "output_type": "execute_result"
    }
   ],
   "source": [
    "inputs_np = np.array(list(map(ord, inputs_str)))\n",
    "targets_np = np.array(list(map(int, targets_str)))\n",
    "keep_mask_np = np.array(list(map(int, keep_mask_str))).astype(bool)\n",
    "\n",
    "# print(\"\\ninput_np:\\n\")\n",
    "# print(repr(inputs_np))\n",
    "\n",
    "# print(\"\\ntargets_np:\\n\")\n",
    "# print(repr(targets_np))\n",
    "\n",
    "# print(\"\\nkeep_mask_np:\\n\")\n",
    "# print(repr(keep_mask_np))\n",
    "\n",
    "infer_fn(inputs_np, targets_np, keep_mask_np)"
   ]
  },
  {
   "cell_type": "code",
   "execution_count": null,
   "metadata": {
    "collapsed": true
   },
   "outputs": [],
   "source": []
  }
 ],
 "metadata": {
  "kernelspec": {
   "display_name": "tensorflow",
   "language": "python",
   "name": "tensorflow"
  },
  "language_info": {
   "codemirror_mode": {
    "name": "ipython",
    "version": 3
   },
   "file_extension": ".py",
   "mimetype": "text/x-python",
   "name": "python",
   "nbconvert_exporter": "python",
   "pygments_lexer": "ipython3",
   "version": "3.6.2"
  }
 },
 "nbformat": 4,
 "nbformat_minor": 2
}
