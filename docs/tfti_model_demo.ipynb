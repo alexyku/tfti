{
 "cells": [
  {
   "cell_type": "markdown",
   "metadata": {},
   "source": [
    "# TFTI demo (in progress)"
   ]
  },
  {
   "cell_type": "code",
   "execution_count": 43,
   "metadata": {},
   "outputs": [
    {
     "name": "stdout",
     "output_type": "stream",
     "text": [
      "Populating the interactive namespace from numpy and matplotlib\n"
     ]
    }
   ],
   "source": [
    "import sys\n",
    "import tensorflow as tf\n",
    "sess = tf.InteractiveSession()\n",
    "\n",
    "%pylab inline"
   ]
  },
  {
   "cell_type": "markdown",
   "metadata": {},
   "source": [
    "## Sanity check\n",
    "\n",
    "Run the following code to verify that the model trains.\n",
    "```\n",
    "PROBLEM=genomics_binding_deepsea_tf\n",
    "MODEL=tfti_transformer\n",
    "HPARAMS_SET=tfti_transformer_debug\n",
    "HPARAMS=''\n",
    "\n",
    "USR_DIR=./tfti\n",
    "DATA_DIR=./tfti/dev\n",
    "TMP_DIR=/tmp/t2t_datagen\n",
    "TRAIN_DIR=$HOME/t2t_train/$PROBLEM/$MODEL-$HPARAMS\n",
    "\n",
    "mkdir -p $DATA_DIR $TMP_DIR $TRAIN_DIR\n",
    "\n",
    "# Train\n",
    "t2t-trainer \\\n",
    "  --t2t_usr_dir=$USR_DIR \\\n",
    "  --data_dir=$DATA_DIR \\\n",
    "  --problems=$PROBLEM \\\n",
    "  --model=$MODEL \\\n",
    "  --hparams_set=$HPARAMS_SET \\\n",
    "  --output_dir=$TRAIN_DIR \\\n",
    "  --hparams=$HPARAMS\n",
    "```"
   ]
  },
  {
   "cell_type": "code",
   "execution_count": null,
   "metadata": {
    "collapsed": true
   },
   "outputs": [],
   "source": []
  }
 ],
 "metadata": {
  "kernelspec": {
   "display_name": "tensorflow",
   "language": "python",
   "name": "tensorflow"
  },
  "language_info": {
   "codemirror_mode": {
    "name": "ipython",
    "version": 3
   },
   "file_extension": ".py",
   "mimetype": "text/x-python",
   "name": "python",
   "nbconvert_exporter": "python",
   "pygments_lexer": "ipython3",
   "version": "3.6.2"
  }
 },
 "nbformat": 4,
 "nbformat_minor": 2
}
