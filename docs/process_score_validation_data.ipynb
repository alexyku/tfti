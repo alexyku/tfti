{
 "cells": [
  {
   "cell_type": "markdown",
   "metadata": {},
   "source": [
    "# Deepsea Validation Txt File Generator\n",
    "\n",
    "This notebook generates a file 'deepseavalidation.txt' to be used by t2t-decoder which contains validation data for all 919 labels on 8000 sequences.\n",
    "\n",
    "Requirements:\n",
    "\n",
    "- valid.mat file from DeepSea\n"
   ]
  },
  {
   "cell_type": "code",
   "execution_count": 6,
   "metadata": {},
   "outputs": [],
   "source": [
    "import pandas as pd\n",
    "from scipy.io import loadmat\n",
    "import numpy as np"
   ]
  },
  {
   "cell_type": "code",
   "execution_count": 17,
   "metadata": {},
   "outputs": [],
   "source": [
    "def matrix2sequence(matrix, reverse = False):\n",
    "\t'''\n",
    "\tConverts matrix of size n x 4 to DNA sequence. Used to sanity check conversions.\n",
    "\t:param matrix n x 4 matrix\n",
    "\t:param reverse if True, returns revers complement\n",
    "\t'''\n",
    "\tseq = ''\n",
    "\tfor i in range(matrix.shape[0]):\n",
    "\t\tbase = np.asarray(matrix[i, :])\n",
    "\n",
    "\t\tif np.array_equal(base, [1,0,0,0]):\n",
    "\t\t\tif (reverse):\n",
    "\t\t\t\tseq += 'T'\n",
    "\t\t\telse:\n",
    "\t\t\t\tseq += 'A'\n",
    "\t\telif np.array_equal(base, [0,1,0,0]):\n",
    "\t\t\tif (reverse):\n",
    "\t\t\t\tseq += 'C'\n",
    "\t\t\telse:\n",
    "\t\t\t\tseq += 'G'\n",
    "\t\telif np.array_equal(base, [0,0,1,0]):\n",
    "\t\t\tif (reverse):\n",
    "\t\t\t\tseq += 'G'\n",
    "\t\t\telse:\n",
    "\t\t\t\tseq += 'C'\n",
    "\t\telif np.array_equal(base, [0,0,0,1]):\n",
    "\t\t\tif (reverse):\n",
    "\t\t\t\tseq += 'A'\n",
    "\t\t\telse:\n",
    "\t\t\t\tseq += 'T'\n",
    "\t\telif np.array_equal(base, [0,0,0,0]):\n",
    "\t\t\tseq += 'N'\n",
    "\t\telse:\n",
    "\t\t\traise ValueError('Invalid encoding for base pair %s', base)\n",
    "\n",
    "\tif (reverse):\n",
    "\t\tseq = ''.join(list(reversed(seq)))\n",
    "\n",
    "\treturn seq"
   ]
  },
  {
   "cell_type": "code",
   "execution_count": 18,
   "metadata": {},
   "outputs": [],
   "source": [
    "datafile = \"/data/epitome/tmp/deepsea_train/valid.mat\""
   ]
  },
  {
   "cell_type": "code",
   "execution_count": 19,
   "metadata": {},
   "outputs": [],
   "source": [
    "# Load valid.mat\n",
    "mat = loadmat(datafile)\n",
    "targets = mat['validdata']\n",
    "inputs = mat['validxdata']\n"
   ]
  },
  {
   "cell_type": "code",
   "execution_count": 21,
   "metadata": {},
   "outputs": [],
   "source": [
    "# process validation sequences to strings\n",
    "sequences = list(map(lambda i: matrix2sequence(i.transpose()), inputs))"
   ]
  },
  {
   "cell_type": "code",
   "execution_count": 35,
   "metadata": {},
   "outputs": [],
   "source": [
    "# save file\n",
    "f= open(\"deepseavalidation.txt\",\"w+\")\n",
    "\n",
    "for i in range(len(sequences)):\n",
    "    target_str = ','.join(str(t) for t in targets[i])\n",
    "    f.write(\"%s\\t%s\\n\" %(sequences[i], target_str))\n",
    "        \n",
    "f.close()"
   ]
  },
  {
   "cell_type": "code",
   "execution_count": null,
   "metadata": {},
   "outputs": [],
   "source": []
  }
 ],
 "metadata": {
  "kernelspec": {
   "display_name": "Python 3",
   "language": "python",
   "name": "python3"
  },
  "language_info": {
   "codemirror_mode": {
    "name": "ipython",
    "version": 3
   },
   "file_extension": ".py",
   "mimetype": "text/x-python",
   "name": "python",
   "nbconvert_exporter": "python",
   "pygments_lexer": "ipython3",
   "version": "3.6.4"
  }
 },
 "nbformat": 4,
 "nbformat_minor": 2
}
