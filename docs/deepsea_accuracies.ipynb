{
 "cells": [
  {
   "cell_type": "markdown",
   "metadata": {},
   "source": [
    "# Accuracy Summaries for DeepSEA\n",
    "\n",
    "This notebook contains DeepSEA accuracies for each prediction type (DNase, TFs, and histones) and cell-type specific accuracies for TF predictions."
   ]
  },
  {
   "cell_type": "code",
   "execution_count": null,
   "metadata": {
    "collapsed": true
   },
   "outputs": [],
   "source": [
    "import pandas as pd"
   ]
  },
  {
   "cell_type": "code",
   "execution_count": null,
   "metadata": {
    "collapsed": false
   },
   "outputs": [],
   "source": [
    "# NOTE: this line will fail if `xlrd` is not installed\n",
    "results = pd.read_excel('deepsea_accuracies.xlsx', skiprows=1)\n",
    "\n",
    "# convert string in AUC column to NaN value\n",
    "results['AUC'] = results.AUC.apply(pd.to_numeric, errors='coerce')\n",
    "results.head()"
   ]
  },
  {
   "cell_type": "code",
   "execution_count": null,
   "metadata": {
    "collapsed": false
   },
   "outputs": [],
   "source": [
    "# 125 dnase, 690 tfs, 104 histones\n",
    "dnase = results[:125]\n",
    "tfs = results[125:815]\n",
    "histones = results[-104:]\n",
    "\n",
    "# sanity check\n",
    "assert(len(dnase) == 125)\n",
    "assert(len(tfs) == 690)\n",
    "assert(len(histones) == 104)"
   ]
  },
  {
   "cell_type": "markdown",
   "metadata": {},
   "source": [
    "# Accuracies for DNase, TFs, Histones"
   ]
  },
  {
   "cell_type": "code",
   "execution_count": null,
   "metadata": {
    "collapsed": false
   },
   "outputs": [],
   "source": [
    "pd.concat([dnase.mean().to_frame(\"DNase\"),\n",
    "           tfs.mean().to_frame(\"TFs\"),\n",
    "           histones.mean().to_frame(\"Histones\"),\n",
    "           results.mean().to_frame(\"All\")],\n",
    "           axis=1).transpose()"
   ]
  },
  {
   "cell_type": "markdown",
   "metadata": {},
   "source": [
    "# Cell-type Accuracies for TFs"
   ]
  },
  {
   "cell_type": "code",
   "execution_count": null,
   "metadata": {
    "collapsed": false
   },
   "outputs": [],
   "source": [
    "mean_auc_by_celltype = tfs.groupby('Cell Type').mean()"
   ]
  },
  {
   "cell_type": "code",
   "execution_count": null,
   "metadata": {
    "collapsed": false,
    "scrolled": false
   },
   "outputs": [],
   "source": [
    "pd.set_option('display.max_rows', len(mean_auc_by_celltype))\n",
    "mean_auc_by_celltype"
   ]
  },
  {
   "cell_type": "markdown",
   "metadata": {},
   "source": [
    "# Accuracies for intersection of GM12878, H1-hESC"
   ]
  },
  {
   "cell_type": "code",
   "execution_count": null,
   "metadata": {
    "collapsed": true
   },
   "outputs": [],
   "source": [
    "gm12878 = results[results[\"Cell Type\"] == \"GM12878\"]\n",
    "h1hesc = results[results[\"Cell Type\"] == \"H1-hESC\"]\n",
    "\n",
    "idx1 = pd.Index(gm12878[\"TF/DNase/HistoneMark\"])\n",
    "idx2 = pd.Index(h1hesc[\"TF/DNase/HistoneMark\"])\n",
    "overlap = set(idx1.intersection(idx2))\n"
   ]
  },
  {
   "cell_type": "code",
   "execution_count": null,
   "metadata": {
    "collapsed": true
   },
   "outputs": [],
   "source": [
    "gm12878_overlap = gm12878[gm12878[\"TF/DNase/HistoneMark\"].isin(overlap)]\n",
    "gm12878_overlap_remove_first = gm12878_overlap.groupby(\"TF/DNase/HistoneMark\").first()\n",
    "gm12878_overlap_remove_first.mean()\n"
   ]
  },
  {
   "cell_type": "code",
   "execution_count": null,
   "metadata": {
    "collapsed": true
   },
   "outputs": [],
   "source": [
    "h1hesc_overlap = h1hesc[h1hesc[\"TF/DNase/HistoneMark\"].isin(overlap)]\n",
    "h1hesc_overlap_remove_first = h1hesc_overlap.groupby(\"TF/DNase/HistoneMark\").max()\n",
    "h1hesc_overlap_remove_first.mean()\n"
   ]
  }
 ],
 "metadata": {
  "kernelspec": {
   "display_name": "Python 3",
   "language": "python",
   "name": "python3"
  },
  "language_info": {
   "codemirror_mode": {
    "name": "ipython",
    "version": 3
   },
   "file_extension": ".py",
   "mimetype": "text/x-python",
   "name": "python",
   "nbconvert_exporter": "python",
   "pygments_lexer": "ipython3",
   "version": "3.4.3"
  }
 },
 "nbformat": 4,
 "nbformat_minor": 0
}
