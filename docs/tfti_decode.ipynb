{
 "cells": [
  {
   "cell_type": "code",
   "execution_count": null,
   "metadata": {},
   "outputs": [],
   "source": [
    "import tensorflow as tf\n",
    "import matplotlib.pyplot as plt\n",
    "import numpy as np\n",
    "import os\n",
    "import sys\n",
    "import collections\n",
    "\n",
    "from tensor2tensor import models\n",
    "from tensor2tensor import problems\n",
    "from tensor2tensor.layers import common_layers\n",
    "from tensor2tensor.utils import trainer_lib\n",
    "from tensor2tensor.utils import t2t_model\n",
    "from tensor2tensor.utils import registry\n",
    "from tensor2tensor.utils import metrics\n",
    "\n",
    "import numpy as np\n",
    "from sklearn import metrics\n",
    "from sklearn.metrics import roc_curve, auc"
   ]
  },
  {
   "cell_type": "code",
   "execution_count": null,
   "metadata": {},
   "outputs": [],
   "source": [
    "### USER CONFIGURES ###\n",
    "data_dir = \"/data/akmorrow/tfti/t2t_data\"\n",
    "train_dir = \"/data/akmorrow/tfti/t2t_train\"\n",
    "validation_file = \"/data/akmorrow/tfti/data/deepseavalidation.txt\""
   ]
  },
  {
   "cell_type": "code",
   "execution_count": null,
   "metadata": {},
   "outputs": [],
   "source": [
    "sys.path.append(\"../tfti\")\n",
    "import tfti\n",
    "\n",
    "# Reset graph for conistency.\n",
    "tf.reset_default_graph()\n",
    "\n",
    "# Prepare model.\n",
    "problem_name = \"genomics_binding_deepsea_gm12878\"\n",
    "model_name = \"tfti_transformer\"\n",
    "hparams_set = \"tfti_transformer_debug\"\n",
    "hparams_overrides_str = \"\"\n",
    "\n",
    "data_dir = os.path.expanduser(data_dir)\n",
    "#output_dir = os.path.expanduser(train_dir + f\"/{problem_name}/{model_name}-{hparams_set}\")\n",
    "output_dir = os.path.expanduser(\"/data/akmorrow/tfti/t2t_train/genomics_binding_deepsea_gm12878/tfti_transformer-params_tfti_transformer_debug\")\n",
    "\n",
    "# Prepare model.\n",
    "hparams = trainer_lib.create_hparams(hparams_set, hparams_overrides_str, data_dir, problem_name)\n",
    "problem = registry.problem(problem_name)\n",
    "encoders = problem.get_feature_encoders(data_dir)\n",
    "\n",
    "# Prepare the model and the graph when model runs on features.\n",
    "model = registry.model(model_name)(hparams, tf.estimator.ModeKeys.EVAL)\n",
    "\n",
    "# Prepare features for feeding into the model.\n",
    "inputs_ph = tf.placeholder(dtype=tf.string, shape=[ ])\n",
    "targets_ph = tf.placeholder(dtype=tf.int64, shape=[problem.num_binary_predictions])\n",
    "features = {\"inputs\": inputs_ph, \"targets\": targets_ph}\n",
    "features = problem.preprocess_dev_example(features, tf.estimator.ModeKeys.EVAL, hparams)\n",
    "\n",
    "# Introduce a dummy batch dimension.\n",
    "for key in features.keys():\n",
    "    features[key] = tf.expand_dims(features[key], 0)\n",
    "\n",
    "logits, losses = model(features)\n",
    "predictions = tf.nn.sigmoid(logits)\n",
    "labels = features[\"targets\"]\n",
    "\n",
    "# Evaluation metrics we want to use.\n",
    "set_auroc, _ = tfti.set_auroc(logits, labels, features)\n",
    "set_auprc, _ = tfti.set_auprc(logits, labels, features)\n",
    "average_auroc, _ = tfti.average_auroc(logits, labels, features)\n",
    "average_auprc, _ = tfti.average_auprc(logits, labels, features)\n",
    "\n",
    "# saver = tf.train.Saver()\n",
    "sess = tf.InteractiveSession()\n",
    "\n",
    "# Initialize AUC running average stuff.\n",
    "init_op = tf.group(tf.global_variables_initializer(), tf.local_variables_initializer())\n",
    "sess.run(init_op)\n",
    "\n",
    "# Load weights from checkpoint.\n",
    "ckpts = tf.train.get_checkpoint_state(output_dir)\n",
    "ckpt = ckpts.model_checkpoint_path\n",
    "# saver.restore(sess, ckpt)"
   ]
  },
  {
   "cell_type": "code",
   "execution_count": null,
   "metadata": {},
   "outputs": [],
   "source": [
    "# load in test data\n",
    "import pandas as pd\n",
    "validation_data=pd.read_csv(validation_file, sep='\\t',header=None)"
   ]
  },
  {
   "cell_type": "code",
   "execution_count": null,
   "metadata": {},
   "outputs": [],
   "source": [
    "# parse prediction file and run graph\n",
    "\n",
    "predictions_and_labels = []\n",
    "\n",
    "for i in range(len(validation_data)):\n",
    "    inputs = validation_data[0][i]\n",
    "    targets = np.array(list(map(int, validation_data[1][i].split(','))))\n",
    "    \n",
    "    fetch = (predictions, labels)\n",
    "    fetch_numpy = sess.run(fetch, feed_dict={\n",
    "        inputs_ph: inputs,\n",
    "        targets_ph: targets\n",
    "    })\n",
    "    \n",
    "    predictions_and_labels.append(fetch_numpy)\n",
    "    \n",
    "predictions_and_labels = [(x.squeeze(), y.squeeze())\n",
    "                          for (x, y) in predictions_and_labels]"
   ]
  },
  {
   "cell_type": "code",
   "execution_count": null,
   "metadata": {},
   "outputs": [],
   "source": [
    "predictions_numpy = np.array(predictions_and_labels)[:, 0, :]\n",
    "labels_numpy = np.array(predictions_and_labels)[:, 1, :]"
   ]
  },
  {
   "cell_type": "code",
   "execution_count": null,
   "metadata": {},
   "outputs": [],
   "source": [
    "# these are the 24 TFs we are evaluating on\n",
    "tfs = sorted(['SP1', 'Pol2-4H8', 'USF2', 'NRSF', 'RFX5', 'c-Myc', 'RXRA', 'EZH2', 'TBP', 'CHD1', 'Egr-1', 'SIN3A', 'GABP', 'CEBPB', 'Nrf1', 'p300', 'CTCF', 'ATF3', 'ATF2', 'Pol2', 'BCL11A', 'BRCA1', 'TCF12', 'SIX5', 'JunD', 'Rad21', 'YY1', 'USF-1', 'Max', 'TAF1', 'CHD2', 'Mxi1', 'SRF', 'Znf143'])"
   ]
  },
  {
   "cell_type": "code",
   "execution_count": null,
   "metadata": {},
   "outputs": [],
   "source": [
    "# Make ROC plots on all TFs\n",
    "plt.figure()\n",
    "\n",
    "lw = 2\n",
    "plt.xlim([0.0, 1.0])\n",
    "plt.ylim([0.0, 1.05])\n",
    "plt.xlabel('False Positive Rate')\n",
    "plt.ylabel('True Positive Rate')\n",
    "plt.title('Receiver operating characteristic')\n",
    "plt.plot([0, 1], [0, 1], color='navy', lw=lw, linestyle='--')\n",
    "\n",
    "\n",
    "for i in range(len(tfs)):\n",
    "    tf = tfs[i]\n",
    "    # Compute micro-average ROC curve and ROC area\n",
    "    fpr, tpr, _ = roc_curve(labels_numpy[:,i], predictions_numpy[:,i])\n",
    "    roc_auc = auc(fpr, tpr)\n",
    "\n",
    "    plt.plot(fpr, tpr, lw, label='%s (%0.2f)' % (tf, roc_auc))\n",
    "    \n",
    "plt.legend(loc=\"lower right\")\n",
    "plt.show()"
   ]
  },
  {
   "cell_type": "code",
   "execution_count": null,
   "metadata": {},
   "outputs": [],
   "source": []
  }
 ],
 "metadata": {
  "kernelspec": {
   "display_name": "Python 3",
   "language": "python",
   "name": "python3"
  },
  "language_info": {
   "codemirror_mode": {
    "name": "ipython",
    "version": 3
   },
   "file_extension": ".py",
   "mimetype": "text/x-python",
   "name": "python",
   "nbconvert_exporter": "python",
   "pygments_lexer": "ipython3",
   "version": "3.6.4"
  }
 },
 "nbformat": 4,
 "nbformat_minor": 2
}
