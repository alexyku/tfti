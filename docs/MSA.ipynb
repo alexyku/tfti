{
 "cells": [
  {
   "cell_type": "markdown",
   "metadata": {},
   "source": [
    "# 1-D MSA"
   ]
  },
  {
   "cell_type": "code",
   "execution_count": 15,
   "metadata": {},
   "outputs": [],
   "source": [
    "from itertools import combinations\n",
    "import math\n",
    "import bisect\n",
    "import sys\n",
    "from skpp import ProjectionPursuitRegressor\n",
    "import numpy as np\n",
    "import random"
   ]
  },
  {
   "cell_type": "markdown",
   "metadata": {},
   "source": [
    "# Functions for calculating Shapley Values"
   ]
  },
  {
   "cell_type": "code",
   "execution_count": 149,
   "metadata": {},
   "outputs": [],
   "source": [
    "# following from https://github.com/susobhang70/shapley_value\n",
    "\n",
    "def power_set(List):\n",
    "    \" Generates list of all permutations for list List\"\n",
    "    PS = [list(j) for i in range(len(List)) for j in combinations(List, i+1)]\n",
    "    return PS\n",
    "\n",
    "def compute_shapley_values(n, v):\n",
    "    \"\"\"\n",
    "    :param charteristic_function contains all possible permutations of the value function\n",
    "    \"\"\"\n",
    "    tempList = list([i for i in range(n)])\n",
    "    N = power_set(tempList)\n",
    "    R_orderings = power_set(players)\n",
    "    assert(len(characteristic_function) == len(R_orderings))\n",
    "    \n",
    "    shapley_values = []\n",
    "    for i in range(n):\n",
    "        shapley = 0\n",
    "        for j in N:\n",
    "            if i not in j:\n",
    "                cmod = len(j)\n",
    "                Cui = j[:]\n",
    "                bisect.insort_left(Cui,i)\n",
    "                l = N.index(j)\n",
    "                k = N.index(Cui)\n",
    "                temp = float(float(characteristic_function[k]) - float(characteristic_function[l])) *\\\n",
    "                           float(math.factorial(cmod) * math.factorial(n - cmod - 1)) / float(math.factorial(n))\n",
    "                shapley += temp\n",
    "\n",
    "        cmod = 0\n",
    "        Cui = [i]\n",
    "        k = N.index(Cui)\n",
    "        temp = float(characteristic_function[k]) * float(math.factorial(cmod) * math.factorial(n - cmod - 1)) / float(math.factorial(n))\n",
    "        shapley += temp\n",
    "\n",
    "        shapley_values.append(shapley)\n",
    "\n",
    "    return shapley_values"
   ]
  },
  {
   "cell_type": "markdown",
   "metadata": {},
   "source": [
    "# Testing MSA\n",
    "\n",
    "First, run the real Shapley values. This is an example taken from the Wiki https://en.wikipedia.org/wiki/Shapley_value, demonstrating the contributions of workers (w) and bosses (o), where the value function is mp if the boss o is in the set, and 0 otherwise, where m = the number of workers in the set S and p is the profit from each worker.\n",
    "\n",
    "\n",
    "First, we compute the full Shapley values.\n",
    "\n",
    "## Full Shapley Computation"
   ]
  },
  {
   "cell_type": "code",
   "execution_count": 152,
   "metadata": {},
   "outputs": [
    {
     "name": "stdout",
     "output_type": "stream",
     "text": [
      "Shapley values for all workers are [0.5, 0.5, 0.5, 0.5, 2.0]\n"
     ]
    }
   ],
   "source": [
    "\n",
    "p = 1 # contribution of each worker\n",
    "\n",
    "# 4 workers and 1 owner\n",
    "players = np.array(['w','w','w','w','o'])\n",
    "k = (players == 'w').sum()\n",
    "\n",
    "def v(S):\n",
    "    if ('o' in S):\n",
    "        m = (S == 'w').sum()\n",
    "        return m * p\n",
    "    else:\n",
    "        return 0\n",
    "\n",
    "orderedList = list([i for i in range(len(players))])\n",
    "R_orderings = power_set(orderedList)    \n",
    "characteristic_function = list(map(lambda x: v(players[x]), R_orderings))\n",
    "\n",
    "# compute the actual Shapley value\n",
    "shapleys = compute_shapley_values(len(players), characteristic_function)\n",
    "print(\"Shapley values for all workers are %s\" % shapleys)"
   ]
  },
  {
   "cell_type": "markdown",
   "metadata": {},
   "source": [
    "### Analyzing the reuslts\n",
    "\n",
    "As you can see, all workers have a contribution of 0.5, and the boss ('o') has a contribution of 2."
   ]
  },
  {
   "cell_type": "code",
   "execution_count": 153,
   "metadata": {},
   "outputs": [
    {
     "name": "stdout",
     "output_type": "stream",
     "text": [
      "Had to compute 31 instances of the value function \n",
      "[0.5, 0.5, 0.5, 0.5, 2.0]\n"
     ]
    }
   ],
   "source": [
    "print(\"Had to compute %i instances of the value function \" % (len(R_orderings)))\n",
    "print(shapleys)\n",
    "assert(shapleys[0] == p/2)\n",
    "assert(shapleys[4] == (k * p)/2)"
   ]
  },
  {
   "cell_type": "markdown",
   "metadata": {},
   "source": [
    "## Computing the Predicted Shapley Values\n",
    "\n",
    "Next, we compute the Shapley values on predicted value functions using the MSA algorithm. The main idea is that we do not need to compute all 31 instances of the value function. Instead, we will only compute 20 instances and use these to predict the missing value functions. This is useful because in our case, the value function is prediction the model and we have many TFs to predict on."
   ]
  },
  {
   "cell_type": "code",
   "execution_count": 159,
   "metadata": {},
   "outputs": [],
   "source": [
    "# Create all possible orderings of the players\n",
    "orderedList = list([i for i in range(len(players))])\n",
    "R_orderings = list(enumerate(power_set(orderedList)))\n",
    "\n",
    "# choose random subset of R_orderings\n",
    "sample_size = 20\n",
    "R_sampled_orderings = random.sample(R_orderings, sample_size)\n",
    "characteristic_function = np.zeros(len(R_orderings))\n",
    "\n",
    "# compute the characteristic function for sampled orderings\n",
    "# in our case, this will be computed from evaluating our model, building a mask from the current ordering\n",
    "train_data = np.zeros((sample_size, len(players)))\n",
    "y = np.zeros(sample_size)\n",
    "\n",
    "for i, x in enumerate(R_sampled_orderings):\n",
    "    y[i] = v(players[x[1]])\n",
    "    for j in x[1]:\n",
    "        train_data[i,j] = 1\n",
    "    characteristic_function[x[0]] = y[i] \n",
    "    \n",
    "\n",
    "# build a matrix that is #random calcs by len(players)  and predict on v\n",
    "estimator = ProjectionPursuitRegressor()\n",
    "estimator.fit(train_data, y)\n",
    "\n",
    "# predict the missing v(s) \n",
    "missing_R_orderings = [x for x in R_orderings if x not in R_sampled_orderings]\n",
    "for x in missing_R_orderings:\n",
    "    prediction_vector = np.zeros(len(players))\n",
    "    for j in x[1]:\n",
    "        prediction_vector[j] = 1\n",
    "    characteristic_function[x[0]] = estimator.predict(np.matrix(prediction_vector))\n",
    "\n",
    "\n",
    "# compute the actual Shapley value\n",
    "shapleys = compute_shapley_values(len(players), characteristic_function)"
   ]
  },
  {
   "cell_type": "code",
   "execution_count": 161,
   "metadata": {},
   "outputs": [
    {
     "name": "stdout",
     "output_type": "stream",
     "text": [
      "Had to compute 20 instances of the value function \n",
      "[0.57220564576624, 0.3890611937547275, 0.49171942194817764, 0.5518310993113194, 1.9951826392195353]\n"
     ]
    }
   ],
   "source": [
    "print(\"Had to compute %i instances of the value function \" % (len(R_sampled_orderings)))\n",
    "print(shapleys)"
   ]
  },
  {
   "cell_type": "code",
   "execution_count": null,
   "metadata": {},
   "outputs": [],
   "source": []
  }
 ],
 "metadata": {
  "kernelspec": {
   "display_name": "Python 3",
   "language": "python",
   "name": "python3"
  },
  "language_info": {
   "codemirror_mode": {
    "name": "ipython",
    "version": 3
   },
   "file_extension": ".py",
   "mimetype": "text/x-python",
   "name": "python",
   "nbconvert_exporter": "python",
   "pygments_lexer": "ipython3",
   "version": "3.6.4"
  }
 },
 "nbformat": 4,
 "nbformat_minor": 2
}
